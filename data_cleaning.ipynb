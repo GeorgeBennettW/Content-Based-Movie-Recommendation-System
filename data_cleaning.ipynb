{
 "cells": [
  {
   "cell_type": "code",
   "execution_count": 1,
   "id": "096c4bee",
   "metadata": {},
   "outputs": [],
   "source": [
    "import pandas as pd\n",
    "import re"
   ]
  },
  {
   "cell_type": "code",
   "execution_count": 2,
   "id": "4a353654",
   "metadata": {},
   "outputs": [],
   "source": [
    "movies = pd.read_csv(\"dataset/movies.csv\")\n",
    "ratings = pd.read_csv(\"dataset/ratings.csv\")\n",
    "tags = pd.read_csv(\"dataset/tags.csv\")\n",
    "genome_scores = pd.read_csv(\"dataset/genome-scores.csv\")\n",
    "genome_tags = pd.read_csv(\"dataset/genome-tags.csv\")"
   ]
  },
  {
   "cell_type": "code",
   "execution_count": 8,
   "id": "019aa9cd",
   "metadata": {},
   "outputs": [
    {
     "name": "stdout",
     "output_type": "stream",
     "text": [
      "tag    17\n",
      "dtype: int64\n"
     ]
    }
   ],
   "source": [
    "missing = tags.isnull().sum().sort_values(ascending=False)\n",
    "print(missing[missing > 0])"
   ]
  },
  {
   "cell_type": "code",
   "execution_count": 9,
   "id": "81e26fe4",
   "metadata": {},
   "outputs": [],
   "source": [
    "tags.dropna(inplace=True)\n",
    "movies.drop_duplicates(inplace=True)\n",
    "ratings.drop_duplicates(inplace=True)\n",
    "tags.drop_duplicates(inplace=True)\n",
    "genome_scores.drop_duplicates(inplace=True)\n",
    "genome_tags.drop_duplicates(inplace=True)"
   ]
  },
  {
   "cell_type": "code",
   "execution_count": 10,
   "id": "5b8329d5",
   "metadata": {},
   "outputs": [],
   "source": [
    "def extract_year(title):\n",
    "    match = re.search(r'\\((\\d{4})\\)', title)\n",
    "    return int(match.group(1)) if match else None\n",
    "\n",
    "movies['year'] = movies['title'].apply(extract_year)"
   ]
  },
  {
   "cell_type": "code",
   "execution_count": 11,
   "id": "a6e27df7",
   "metadata": {},
   "outputs": [],
   "source": [
    "genome = pd.merge(genome_scores, genome_tags, on='tagId')"
   ]
  },
  {
   "cell_type": "code",
   "execution_count": 12,
   "id": "5250b66c",
   "metadata": {},
   "outputs": [],
   "source": [
    "important_tags = genome[genome['relevance'] > 0.7]"
   ]
  },
  {
   "cell_type": "code",
   "execution_count": 13,
   "id": "e596ad4c",
   "metadata": {},
   "outputs": [],
   "source": [
    "movie_tags = important_tags.groupby('movieId')['tag'].apply(lambda x: ' '.join(x)).reset_index()\n",
    "movie_tags.rename(columns={'tag': 'genome_tags'}, inplace=True)"
   ]
  },
  {
   "cell_type": "code",
   "execution_count": 14,
   "id": "a0c414d1",
   "metadata": {},
   "outputs": [],
   "source": [
    "user_tags = tags.groupby('movieId')['tag'].apply(lambda x: ' '.join(x)).reset_index()\n",
    "user_tags.rename(columns={'tag': 'user_tags'}, inplace=True)"
   ]
  },
  {
   "cell_type": "code",
   "execution_count": 15,
   "id": "c63e97a1",
   "metadata": {},
   "outputs": [],
   "source": [
    "# Merge movies with genome tags\n",
    "movies = pd.merge(movies, movie_tags, on='movieId', how='left')\n",
    "\n",
    "# Merge with user tags\n",
    "movies = pd.merge(movies, user_tags, on='movieId', how='left')\n",
    "\n",
    "# Replace NaNs with empty strings\n",
    "movies['genome_tags'] = movies['genome_tags'].fillna('')\n",
    "movies['user_tags'] = movies['user_tags'].fillna('')\n",
    "\n",
    "# Replace genre separators\n",
    "movies['genres'] = movies['genres'].str.replace('|', ' ', regex=False)\n",
    "\n",
    "# Combine all metadata into one column\n",
    "movies['metadata'] = movies['genres'] + ' ' + movies['genome_tags']  # + ' ' + movies['user_tags']"
   ]
  },
  {
   "cell_type": "code",
   "execution_count": 16,
   "id": "589efc5b",
   "metadata": {},
   "outputs": [
    {
     "name": "stdout",
     "output_type": "stream",
     "text": [
      "       movieId                                              title  \\\n",
      "0            1                                   Toy Story (1995)   \n",
      "1            2                                     Jumanji (1995)   \n",
      "2            3                            Grumpier Old Men (1995)   \n",
      "3            4                           Waiting to Exhale (1995)   \n",
      "4            5                 Father of the Bride Part II (1995)   \n",
      "...        ...                                                ...   \n",
      "86532   288967               State of Siege: Temple Attack (2021)   \n",
      "86533   288971                                 Ouija Japan (2021)   \n",
      "86534   288975   The Men Who Made the Movies: Howard Hawks (1973)   \n",
      "86535   288977                    Skinford: Death Sentence (2023)   \n",
      "86536   288983  UNZIPPED: An Autopsy of American Inequality (2...   \n",
      "\n",
      "                                            genres    year  \\\n",
      "0      Adventure Animation Children Comedy Fantasy  1995.0   \n",
      "1                       Adventure Children Fantasy  1995.0   \n",
      "2                                   Comedy Romance  1995.0   \n",
      "3                             Comedy Drama Romance  1995.0   \n",
      "4                                           Comedy  1995.0   \n",
      "...                                            ...     ...   \n",
      "86532                                 Action Drama  2021.0   \n",
      "86533                                Action Horror  2021.0   \n",
      "86534                                  Documentary  1973.0   \n",
      "86535                               Crime Thriller  2023.0   \n",
      "86536                                  Documentary  2021.0   \n",
      "\n",
      "                                             genome_tags  \\\n",
      "0      adventure animated animation cartoon cgi child...   \n",
      "1      adventure animals based on a book based on boo...   \n",
      "2             comedy good sequel original sequel sequels   \n",
      "3      chick flick divorce girlie movie relationships...   \n",
      "4      comedy family father daughter relationship fee...   \n",
      "...                                                  ...   \n",
      "86532                                                      \n",
      "86533                                                      \n",
      "86534                                                      \n",
      "86535                                                      \n",
      "86536                                                      \n",
      "\n",
      "                                               user_tags  \\\n",
      "0      animation friendship toys animation Disney Pix...   \n",
      "1      animals based on a book fantasy magic board ga...   \n",
      "2      sequel moldy old old age old men wedding old p...   \n",
      "3      characters chick flick girl movie characters c...   \n",
      "4      family pregnancy wedding 4th wall aging baby d...   \n",
      "...                                                  ...   \n",
      "86532                                                      \n",
      "86533                                                      \n",
      "86534                                                      \n",
      "86535                                                      \n",
      "86536                                                      \n",
      "\n",
      "                                                metadata  \n",
      "0      Adventure Animation Children Comedy Fantasy ad...  \n",
      "1      Adventure Children Fantasy adventure animals b...  \n",
      "2      Comedy Romance comedy good sequel original seq...  \n",
      "3      Comedy Drama Romance chick flick divorce girli...  \n",
      "4      Comedy comedy family father daughter relations...  \n",
      "...                                                  ...  \n",
      "86532                                      Action Drama   \n",
      "86533                                     Action Horror   \n",
      "86534                                       Documentary   \n",
      "86535                                    Crime Thriller   \n",
      "86536                                       Documentary   \n",
      "\n",
      "[86537 rows x 7 columns]\n"
     ]
    }
   ],
   "source": [
    "print(movies)"
   ]
  },
  {
   "cell_type": "code",
   "execution_count": 17,
   "id": "a09c31d2",
   "metadata": {},
   "outputs": [],
   "source": [
    "movies.to_csv('dataset/cleaned_movies_with_metadata.csv', index=False)"
   ]
  }
 ],
 "metadata": {
  "kernelspec": {
   "display_name": "Python 3",
   "language": "python",
   "name": "python3"
  },
  "language_info": {
   "codemirror_mode": {
    "name": "ipython",
    "version": 3
   },
   "file_extension": ".py",
   "mimetype": "text/x-python",
   "name": "python",
   "nbconvert_exporter": "python",
   "pygments_lexer": "ipython3",
   "version": "3.13.3"
  }
 },
 "nbformat": 4,
 "nbformat_minor": 5
}
